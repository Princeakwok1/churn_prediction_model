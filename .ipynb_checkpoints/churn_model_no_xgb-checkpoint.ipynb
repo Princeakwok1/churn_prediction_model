{
 "cells": [
  {
   "cell_type": "markdown",
   "id": "01b88847",
   "metadata": {},
   "source": [
    "# Churn Modeling (Milestone 4)\n",
    "This notebook develops predictive models to analyze churn using Logistic Regression and Random Forest.\n"
   ]
  },
  {
   "cell_type": "code",
   "execution_count": null,
   "id": "f0932027",
   "metadata": {},
   "outputs": [],
   "source": [
    "import pandas as pd\n",
    "import numpy as np\n",
    "import matplotlib.pyplot as plt\n",
    "import seaborn as sns\n",
    "from sklearn.model_selection import train_test_split, GridSearchCV\n",
    "from sklearn.preprocessing import StandardScaler, OneHotEncoder\n",
    "from sklearn.compose import ColumnTransformer\n",
    "from sklearn.pipeline import Pipeline\n",
    "from sklearn.linear_model import LogisticRegression\n",
    "from sklearn.ensemble import RandomForestClassifier\n",
    "from sklearn.metrics import classification_report, confusion_matrix, roc_auc_score, roc_curve\n",
    "from imblearn.over_sampling import SMOTE\n",
    "from imblearn.pipeline import Pipeline as ImbPipeline\n",
    "import sklearn\n",
    "print('scikit-learn version:', sklearn.__version__)"
   ]
  },
  {
   "cell_type": "code",
   "execution_count": null,
   "id": "f6d52703",
   "metadata": {},
   "outputs": [],
   "source": [
    "# Load finalized dataset\n",
    "df = pd.read_csv('finalized_churn_dataset.csv')\n",
    "df.head()"
   ]
  },
  {
   "cell_type": "code",
   "execution_count": null,
   "id": "02207a08",
   "metadata": {},
   "outputs": [],
   "source": [
    "# Features and target\n",
    "X = df.drop('churn', axis=1)\n",
    "y = df['churn']\n",
    "\n",
    "# Identify numeric and categorical columns\n",
    "numeric_cols = X.select_dtypes(include=['int64', 'float64']).columns\n",
    "cat_cols = X.select_dtypes(include=['object']).columns"
   ]
  },
  {
   "cell_type": "code",
   "execution_count": null,
   "id": "aa860748",
   "metadata": {},
   "outputs": [],
   "source": [
    "numeric_transformer = Pipeline(steps=[('scaler', StandardScaler())])\n",
    "\n",
    "if sklearn.__version__ >= '1.2':\n",
    "    cat_transformer = Pipeline(steps=[('onehot', OneHotEncoder(handle_unknown='ignore', sparse_output=False))])\n",
    "else:\n",
    "    cat_transformer = Pipeline(steps=[('onehot', OneHotEncoder(handle_unknown='ignore', sparse=False))])\n",
    "\n",
    "preprocessor = ColumnTransformer(\n",
    "    transformers=[\n",
    "        ('num', numeric_transformer, numeric_cols),\n",
    "        ('cat', cat_transformer, cat_cols)\n",
    "    ],\n",
    "    remainder='drop'\n",
    ")\n",
    "print('Preprocessor ready')"
   ]
  },
  {
   "cell_type": "code",
   "execution_count": null,
   "id": "ca054e27",
   "metadata": {},
   "outputs": [],
   "source": [
    "# Train-test split\n",
    "X_train, X_test, y_train, y_test = train_test_split(X, y, test_size=0.3, random_state=42, stratify=y)"
   ]
  },
  {
   "cell_type": "code",
   "execution_count": null,
   "id": "3370fc27",
   "metadata": {},
   "outputs": [],
   "source": [
    "# Logistic Regression with SMOTE\n",
    "pipe_lr = ImbPipeline(steps=[('preproc', preprocessor),\n",
    "                             ('smote', SMOTE(random_state=42)),\n",
    "                             ('clf', LogisticRegression(max_iter=1000))])\n",
    "pipe_lr.fit(X_train, y_train)\n",
    "y_pred_lr = pipe_lr.predict(X_test)\n",
    "print(classification_report(y_test, y_pred_lr))\n",
    "print('ROC AUC:', roc_auc_score(y_test, pipe_lr.predict_proba(X_test)[:,1]))"
   ]
  },
  {
   "cell_type": "code",
   "execution_count": null,
   "id": "69a10bce",
   "metadata": {},
   "outputs": [],
   "source": [
    "# Random Forest with SMOTE + Hyperparameter tuning\n",
    "pipe_rf = ImbPipeline(steps=[('preproc', preprocessor),\n",
    "                             ('smote', SMOTE(random_state=42)),\n",
    "                             ('clf', RandomForestClassifier(random_state=42))])\n",
    "\n",
    "param_grid = {\n",
    "    'clf__n_estimators': [100, 200],\n",
    "    'clf__max_depth': [5, 10]\n",
    "}\n",
    "\n",
    "grid_rf = GridSearchCV(pipe_rf, param_grid, cv=3, scoring='roc_auc')\n",
    "grid_rf.fit(X_train, y_train)\n",
    "y_pred_rf = grid_rf.predict(X_test)\n",
    "print('Best Params:', grid_rf.best_params_)\n",
    "print(classification_report(y_test, y_pred_rf))\n",
    "print('ROC AUC:', roc_auc_score(y_test, grid_rf.predict_proba(X_test)[:,1]))"
   ]
  },
  {
   "cell_type": "code",
   "execution_count": null,
   "id": "4497ffee",
   "metadata": {},
   "outputs": [],
   "source": [
    "# ROC Curve comparison\n",
    "y_pred_prob_lr = pipe_lr.predict_proba(X_test)[:,1]\n",
    "y_pred_prob_rf = grid_rf.predict_proba(X_test)[:,1]\n",
    "\n",
    "fpr_lr, tpr_lr, _ = roc_curve(y_test, y_pred_prob_lr)\n",
    "fpr_rf, tpr_rf, _ = roc_curve(y_test, y_pred_prob_rf)\n",
    "\n",
    "plt.figure(figsize=(6,4))\n",
    "plt.plot(fpr_lr, tpr_lr, label='Logistic Regression')\n",
    "plt.plot(fpr_rf, tpr_rf, label='Random Forest')\n",
    "plt.plot([0,1], [0,1], 'k--')\n",
    "plt.xlabel('False Positive Rate')\n",
    "plt.ylabel('True Positive Rate')\n",
    "plt.title('ROC Curve')\n",
    "plt.legend()\n",
    "plt.show()"
   ]
  }
 ],
 "metadata": {
  "kernelspec": {
   "display_name": "Python 3",
   "language": "python",
   "name": "python3"
  },
  "language_info": {
   "name": "python",
   "version": "3.13"
  }
 },
 "nbformat": 4,
 "nbformat_minor": 5
}
